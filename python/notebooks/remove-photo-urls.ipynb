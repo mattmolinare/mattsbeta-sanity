{
 "cells": [
  {
   "cell_type": "code",
   "execution_count": null,
   "metadata": {},
   "outputs": [],
   "source": [
    "import ndjson\n",
    "\n",
    "with open(\"input.ndjson\") as f:\n",
    "    data = ndjson.load(f)\n",
    "\n",
    "\n",
    "def remove_cover_photo_url(row):\n",
    "    row.pop(\"coverPhotoUrl\", None)\n",
    "\n",
    "\n",
    "def remove_report_photo_urls(row):\n",
    "    report = row.get(\"report\")\n",
    "    if report is None:\n",
    "        return\n",
    "    for block in report:\n",
    "        if block[\"_type\"] == \"photo\":\n",
    "            block.pop(\"url\", None)\n",
    "\n",
    "\n",
    "for row in data:\n",
    "    if row[\"_type\"] == \"trip\":\n",
    "        remove_cover_photo_url(row)\n",
    "        remove_report_photo_urls(row)\n",
    "\n",
    "with open(\"output.ndjson\", \"w\") as f:\n",
    "    ndjson.dump(data, f)"
   ]
  }
 ],
 "metadata": {
  "kernelspec": {
   "display_name": "mattsbeta-sanity",
   "language": "python",
   "name": "python3"
  },
  "language_info": {
   "codemirror_mode": {
    "name": "ipython",
    "version": 3
   },
   "file_extension": ".py",
   "mimetype": "text/x-python",
   "name": "python",
   "nbconvert_exporter": "python",
   "pygments_lexer": "ipython3",
   "version": "3.10.9"
  },
  "vscode": {
   "interpreter": {
    "hash": "d711730f34ec5c60c8f0d05931ef6a4ea221228bb3574a3028a5be192fcf9d7e"
   }
  }
 },
 "nbformat": 4,
 "nbformat_minor": 2
}
