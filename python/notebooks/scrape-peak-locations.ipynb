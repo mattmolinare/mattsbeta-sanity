{
 "cells": [
  {
   "cell_type": "code",
   "execution_count": null,
   "metadata": {},
   "outputs": [],
   "source": [
    "import re\n",
    "\n",
    "import ndjson\n",
    "import requests\n",
    "import tqdm.notebook as tqdm\n",
    "from bs4 import BeautifulSoup\n",
    "\n",
    "with open(\"input.ndjson\") as f:\n",
    "    data = ndjson.load(f)\n",
    "\n",
    "peaks = [row for row in data if row[\"_type\"] == \"peak\"]\n",
    "for peak in tqdm.tqdm(peaks):\n",
    "    link = peak.get(\"link\")\n",
    "    if link is None:\n",
    "        continue\n",
    "    response = requests.get(link)\n",
    "    soup = BeautifulSoup(response.text, \"html.parser\")\n",
    "    tags = iter(soup.find_all(\"td\"))\n",
    "    for tag in tags:\n",
    "        if tag.text == \"Latitude/Longitude (WGS84)\":\n",
    "            break\n",
    "    tag = next(tags)\n",
    "    match = re.match(\"^(.*), (.*) \\(Dec Deg\\)$\", list(tag.stripped_strings)[1])\n",
    "    lat, lng = map(float, match.groups())\n",
    "    peak[\"location\"] = {\n",
    "        \"lat\": lat,\n",
    "        \"lng\": lng,\n",
    "    }\n",
    "\n",
    "with open(\"output.ndjson\", \"w\") as f:\n",
    "    ndjson.dump(data, f)"
   ]
  }
 ],
 "metadata": {
  "kernelspec": {
   "display_name": "mattsbeta-sanity",
   "language": "python",
   "name": "python3"
  },
  "language_info": {
   "codemirror_mode": {
    "name": "ipython",
    "version": 3
   },
   "file_extension": ".py",
   "mimetype": "text/x-python",
   "name": "python",
   "nbconvert_exporter": "python",
   "pygments_lexer": "ipython3",
   "version": "3.13.1"
  },
  "orig_nbformat": 4
 },
 "nbformat": 4,
 "nbformat_minor": 2
}
