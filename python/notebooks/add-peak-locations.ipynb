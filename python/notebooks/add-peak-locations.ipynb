{
 "cells": [
  {
   "cell_type": "code",
   "execution_count": null,
   "metadata": {},
   "outputs": [],
   "source": [
    "import re\n",
    "\n",
    "from bs4 import BeautifulSoup\n",
    "import ndjson\n",
    "import requests\n",
    "import tqdm\n",
    "\n",
    "with open(\"input.ndjson\") as f:\n",
    "    data = ndjson.load(f)\n",
    "\n",
    "peak_rows = [row for row in data if row[\"_type\"] == \"peak\"]\n",
    "\n",
    "for row in tqdm.tqdm(peak_rows):\n",
    "    link = row.get(\"link\")\n",
    "    if link is None:\n",
    "        continue\n",
    "    response = requests.get(link)\n",
    "    soup = BeautifulSoup(response.text, \"html.parser\")\n",
    "    tags = iter(soup.find_all(\"td\"))\n",
    "    for tag in tags:\n",
    "        if tag.text == \"Latitude/Longitude (WGS84)\":\n",
    "            break\n",
    "    tag = next(tags)\n",
    "    match = re.match(\n",
    "        \"^(.*), (.*) \\(Dec Deg\\)$\",\n",
    "        list(tag.stripped_strings)[1]\n",
    "    )\n",
    "    lat, lng = map(float, match.groups())\n",
    "    row[\"location\"] = {\n",
    "        \"lat\": lat,\n",
    "        \"lng\": lng\n",
    "    }\n",
    "\n",
    "with open(\"output.ndjson\", \"w\") as f:\n",
    "    ndjson.dump(data, f)"
   ]
  }
 ],
 "metadata": {
  "kernelspec": {
   "display_name": "mattsbeta-sanity",
   "language": "python",
   "name": "python3"
  },
  "language_info": {
   "codemirror_mode": {
    "name": "ipython",
    "version": 3
   },
   "file_extension": ".py",
   "mimetype": "text/x-python",
   "name": "python",
   "nbconvert_exporter": "python",
   "pygments_lexer": "ipython3",
   "version": "3.10.9"
  },
  "orig_nbformat": 4
 },
 "nbformat": 4,
 "nbformat_minor": 2
}
