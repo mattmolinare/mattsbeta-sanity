{
 "cells": [
  {
   "cell_type": "code",
   "execution_count": null,
   "metadata": {},
   "outputs": [],
   "source": [
    "import ndjson\n",
    "\n",
    "with open(\"input.ndjson\") as f:\n",
    "    data = ndjson.load(f)\n",
    "\n",
    "for row in data:\n",
    "    if row[\"_type\"] == \"peak\":\n",
    "        exact = row.pop(\"exact\")\n",
    "        row[\"elevation\"] = {\n",
    "            \"value\": row[\"elevation\"],\n",
    "            \"unit\": \"ft\",\n",
    "            \"exact\": exact\n",
    "        }\n",
    "        prominence = row.pop(\"prominence\", None)\n",
    "        if prominence is not None:\n",
    "            row[\"prominence\"] = {\n",
    "                \"value\": prominence,\n",
    "                \"unit\": \"ft\",\n",
    "                \"exact\": exact\n",
    "            }\n",
    "\n",
    "with open(\"output.ndjson\", \"w\") as f:\n",
    "    ndjson.dump(data, f)"
   ]
  }
 ],
 "metadata": {
  "kernelspec": {
   "display_name": "mattsbeta-sanity",
   "language": "python",
   "name": "python3"
  },
  "language_info": {
   "codemirror_mode": {
    "name": "ipython",
    "version": 3
   },
   "file_extension": ".py",
   "mimetype": "text/x-python",
   "name": "python",
   "nbconvert_exporter": "python",
   "pygments_lexer": "ipython3",
   "version": "3.10.9"
  },
  "orig_nbformat": 4
 },
 "nbformat": 4,
 "nbformat_minor": 2
}
