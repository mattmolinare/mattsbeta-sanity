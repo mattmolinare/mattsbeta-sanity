{
 "cells": [
  {
   "cell_type": "code",
   "execution_count": null,
   "metadata": {},
   "outputs": [],
   "source": [
    "import ndjson\n",
    "\n",
    "with open(\"input.ndjson\") as f:\n",
    "    data = ndjson.load(f)\n",
    "\n",
    "for row in data:\n",
    "    if row[\"_type\"] != \"trip\":\n",
    "       continue\n",
    "    report = row.get(\"report\")\n",
    "    if report is None:\n",
    "        continue\n",
    "    for block in report:\n",
    "        marks = block.get(\"markDefs\")\n",
    "        if marks is None:\n",
    "            continue\n",
    "        for mark in marks:\n",
    "            if mark[\"_type\"] != \"link\":\n",
    "                continue\n",
    "            link = mark.pop(\"href\")\n",
    "            mark.update(\n",
    "                {\n",
    "                    \"_type\": \"externalLink\",\n",
    "                    \"link\": link,\n",
    "                }\n",
    "            )\n",
    "\n",
    "with open(\"output.ndjson\", \"w\") as f:\n",
    "    ndjson.dump(data, f)"
   ]
  }
 ],
 "metadata": {
  "kernelspec": {
   "display_name": "mattsbeta",
   "language": "python",
   "name": "python3"
  },
  "language_info": {
   "codemirror_mode": {
    "name": "ipython",
    "version": 3
   },
   "file_extension": ".py",
   "mimetype": "text/x-python",
   "name": "python",
   "nbconvert_exporter": "python",
   "pygments_lexer": "ipython3",
   "version": "3.12.5"
  }
 },
 "nbformat": 4,
 "nbformat_minor": 2
}
