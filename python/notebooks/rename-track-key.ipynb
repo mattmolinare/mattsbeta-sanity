{
 "cells": [
  {
   "cell_type": "code",
   "execution_count": null,
   "metadata": {},
   "outputs": [],
   "source": [
    "import ndjson\n",
    "\n",
    "with open(\"input.ndjson\") as f:\n",
    "    data = ndjson.load(f)\n",
    "\n",
    "for row in data:\n",
    "    if row[\"_type\"] == \"trip\":\n",
    "        track_key = row.pop(\"trackKey\", None)\n",
    "        if track_key is None:\n",
    "            continue\n",
    "        row[\"trackS3Key\"] = track_key\n",
    "\n",
    "with open(\"output.ndjson\", \"w\") as f:\n",
    "    ndjson.dump(data, f)"
   ]
  }
 ],
 "metadata": {
  "kernelspec": {
   "display_name": "mattsbeta-sanity",
   "language": "python",
   "name": "python3"
  },
  "language_info": {
   "codemirror_mode": {
    "name": "ipython",
    "version": 3
   },
   "file_extension": ".py",
   "mimetype": "text/x-python",
   "name": "python",
   "nbconvert_exporter": "python",
   "pygments_lexer": "ipython3",
   "version": "3.10.9"
  },
  "vscode": {
   "interpreter": {
    "hash": "d711730f34ec5c60c8f0d05931ef6a4ea221228bb3574a3028a5be192fcf9d7e"
   }
  }
 },
 "nbformat": 4,
 "nbformat_minor": 2
}
