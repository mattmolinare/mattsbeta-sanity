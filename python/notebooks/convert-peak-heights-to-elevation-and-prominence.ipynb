{
 "cells": [
  {
   "cell_type": "code",
   "execution_count": 11,
   "metadata": {},
   "outputs": [],
   "source": [
    "import ndjson\n",
    "\n",
    "with open(\"../../production-export-2023-06-22t16-31-33-493z/data.ndjson\") as f:\n",
    "    data = ndjson.load(f)\n",
    "\n",
    "for row in data:\n",
    "    if row[\"_type\"] == \"peak\":\n",
    "        row[\"elevation\"] = row[\"elevation\"][\"value\"]\n",
    "        prominence = row.pop(\"prominence\", None)\n",
    "        if prominence is None:\n",
    "            continue\n",
    "        prominence_value = prominence.pop(\"value\", None)\n",
    "        if prominence_value is not None:\n",
    "            row[\"prominence\"] = prominence_value\n",
    "\n",
    "with open(\"output.ndjson\", \"w\") as f:\n",
    "    ndjson.dump(data, f)"
   ]
  }
 ],
 "metadata": {
  "kernelspec": {
   "display_name": "Python 3 (ipykernel)",
   "language": "python",
   "name": "python3"
  },
  "language_info": {
   "codemirror_mode": {
    "name": "ipython",
    "version": 3
   },
   "file_extension": ".py",
   "mimetype": "text/x-python",
   "name": "python",
   "nbconvert_exporter": "python",
   "pygments_lexer": "ipython3",
   "version": "3.10.9"
  }
 },
 "nbformat": 4,
 "nbformat_minor": 2
}
