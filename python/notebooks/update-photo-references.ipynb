{
 "cells": [
  {
   "cell_type": "code",
   "execution_count": null,
   "id": "37dcf27c",
   "metadata": {},
   "outputs": [],
   "source": [
    "import ndjson\n",
    "\n",
    "with open(\"input.ndjson\") as file:\n",
    "    data = ndjson.load(file)\n",
    "\n",
    "photo_id_to_s3_key = {}\n",
    "for row in data:\n",
    "    if row[\"_type\"] == \"photo\":\n",
    "        photo_id_to_s3_key[row[\"_id\"]] = row[\"s3Key\"]\n",
    "\n",
    "data = [row for row in data if row[\"_type\"] != \"photo\"]\n",
    "\n",
    "for row in data:\n",
    "    if row[\"_type\"] == \"trip\":\n",
    "        cover_photo = row.pop(\"coverPhoto\", None)\n",
    "        if cover_photo is not None:\n",
    "            row[\"coverPhotoS3Key\"] = photo_id_to_s3_key[cover_photo[\"_ref\"]]\n",
    "        report = row.get(\"report\")\n",
    "        if report is not None:\n",
    "            for block in report:\n",
    "                if block[\"_type\"] == \"figure\":\n",
    "                    photo = block.pop(\"photo\", None)\n",
    "                    if photo is not None:\n",
    "                        block[\"photoS3Key\"] = photo_id_to_s3_key[photo[\"_ref\"]]\n",
    "    elif row[\"_type\"] == \"landmark\":\n",
    "        photo = row.pop(\"photo\", None)\n",
    "        if photo is not None:\n",
    "            row[\"photoS3Key\"] = photo_id_to_s3_key[photo[\"_ref\"]]\n",
    "\n",
    "with open(\"output.ndjson\", mode=\"w\") as file:\n",
    "    ndjson.dump(data, file)"
   ]
  }
 ],
 "metadata": {
  "kernelspec": {
   "display_name": "mattsbeta-sanity",
   "language": "python",
   "name": "python3"
  },
  "language_info": {
   "codemirror_mode": {
    "name": "ipython",
    "version": 3
   },
   "file_extension": ".py",
   "mimetype": "text/x-python",
   "name": "python",
   "nbconvert_exporter": "python",
   "pygments_lexer": "ipython3",
   "version": "3.12.6"
  }
 },
 "nbformat": 4,
 "nbformat_minor": 5
}
